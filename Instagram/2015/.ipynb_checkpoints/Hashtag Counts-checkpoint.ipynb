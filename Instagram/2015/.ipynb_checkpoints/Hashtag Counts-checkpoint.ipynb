{
 "metadata": {
  "name": "",
  "signature": "sha256:36b00c3fe80871808e6895b063b0395f3400d683af867dd378cb054187b8945d"
 },
 "nbformat": 3,
 "nbformat_minor": 0,
 "worksheets": [
  {
   "cells": [
    {
     "cell_type": "code",
     "collapsed": false,
     "input": [
      "import matplotlib.pyplot as plt\n",
      "%matplotlib inline\n",
      "import numpy as np\n",
      "import pandas as pd\n",
      "import statsmodels.api as sm\n",
      "from statsmodels.nonparametric.kde import KDEUnivariate\n",
      "from statsmodels.nonparametric import smoothers_lowess\n",
      "from pandas import Series, DataFrame\n",
      "from patsy import dmatrices\n",
      "from sklearn import datasets, svm\n",
      "from KaggleAux import predict as ka # see github.com/agconti/kaggleaux for more details"
     ],
     "language": "python",
     "metadata": {},
     "outputs": [
      {
       "output_type": "stream",
       "stream": "stderr",
       "text": [
        "/home/rybo/anaconda/lib/python2.7/site-packages/setuptools-7.0-py2.7.egg/pkg_resources.py:1045: UserWarning: /home/rybo/.python-eggs is writable by group/others and vulnerable to attack when used with get_resource_filename. Consider a more secure location (set with .set_extraction_path or the PYTHON_EGG_CACHE environment variable).\n"
       ]
      }
     ],
     "prompt_number": 2
    },
    {
     "cell_type": "code",
     "collapsed": false,
     "input": [
      "df = pd.read_csv('total hashtag.csv')"
     ],
     "language": "python",
     "metadata": {},
     "outputs": [],
     "prompt_number": 3
    },
    {
     "cell_type": "code",
     "collapsed": false,
     "input": [
      "df.head(20)\n",
      "df1 = df.head(25)\n",
      "h = plt.bar(xrange(len(df1.Key)), df1.Value, label = df1.Key)\n",
      "xticks_pos = [0.65*patch.get_width() + patch.get_xy()[0] for patch in h]\n",
      "plt.xticks(xticks_pos, df1.Key, ha = 'center', rotation = 90)\n"
     ],
     "language": "python",
     "metadata": {},
     "outputs": [
      {
       "metadata": {},
       "output_type": "pyout",
       "prompt_number": 5,
       "text": [
        "([<matplotlib.axis.XTick at 0x7fe515e15b50>,\n",
        "  <matplotlib.axis.XTick at 0x7fe515cb56d0>,\n",
        "  <matplotlib.axis.XTick at 0x7fe515c8e410>,\n",
        "  <matplotlib.axis.XTick at 0x7fe515c127d0>,\n",
        "  <matplotlib.axis.XTick at 0x7fe515c24710>,\n",
        "  <matplotlib.axis.XTick at 0x7fe515c24e50>,\n",
        "  <matplotlib.axis.XTick at 0x7fe515bad5d0>,\n",
        "  <matplotlib.axis.XTick at 0x7fe515badd10>,\n",
        "  <matplotlib.axis.XTick at 0x7fe515bb9490>,\n",
        "  <matplotlib.axis.XTick at 0x7fe515bb9bd0>,\n",
        "  <matplotlib.axis.XTick at 0x7fe515cbeb50>,\n",
        "  <matplotlib.axis.XTick at 0x7fe515cb5310>,\n",
        "  <matplotlib.axis.XTick at 0x7fe515ea10d0>,\n",
        "  <matplotlib.axis.XTick at 0x7fe515e86410>,\n",
        "  <matplotlib.axis.XTick at 0x7fe515bb9fd0>,\n",
        "  <matplotlib.axis.XTick at 0x7fe515bc5750>,\n",
        "  <matplotlib.axis.XTick at 0x7fe515bc5e90>,\n",
        "  <matplotlib.axis.XTick at 0x7fe515bcc610>,\n",
        "  <matplotlib.axis.XTick at 0x7fe515bccd50>,\n",
        "  <matplotlib.axis.XTick at 0x7fe515bd74d0>,\n",
        "  <matplotlib.axis.XTick at 0x7fe515bd7c10>,\n",
        "  <matplotlib.axis.XTick at 0x7fe515be0390>,\n",
        "  <matplotlib.axis.XTick at 0x7fe515be0ad0>,\n",
        "  <matplotlib.axis.XTick at 0x7fe515be9250>,\n",
        "  <matplotlib.axis.XTick at 0x7fe515be9990>],\n",
        " <a list of 25 Text xticklabel objects>)"
       ]
      },
      {
       "metadata": {},
       "output_type": "display_data",
       "png": "[encoded data removed]",
       "text": [
        "<matplotlib.figure.Figure at 0x7fe515caf810>"
       ]
      }
     ],
     "prompt_number": 5
    },
    {
     "cell_type": "code",
     "collapsed": false,
     "input": [
      "l1 = [\"#2015\",\"#nye\",\"#2015\\\"\",\"#nye\\\"\",\"2015\\\"\",\"#happynewyear\",\"#newyearseve\",\"nye\",\"NYE\",\"#NYE\",\"2015\",\"#newyear\",\"#2014\",\"happynewyear\",\"#newyears\",\"nyc\",\"#happynewyear\\\"\"]\n",
      "a = []\n",
      "l2 = []\n",
      "for i in l1:\n",
      "    l2.append(i.lower())\n",
      "#print l1\n",
      "#df2['Class'] = df[]\n",
      "for i in df.Key:\n",
      "    if str(i).lower() in l2:\n",
      "        a.append(0)\n",
      "        #print \"Hi\"\n",
      "    elif \"newyear\" in str(i).lower():\n",
      "        a.append(0)\n",
      "    elif \"201\" in str(i).lower():\n",
      "        a.append(0)\n",
      "    elif \"newyork\" in str(i).lower():\n",
      "        a.append(1)\n",
      "    elif \"nyc\" in str(i).lower():\n",
      "        a.append(1)\n",
      "    elif \"bigapple\" in str(i).lower():\n",
      "        a.append(1)\n",
      "    elif \"ny\" in str(i).lower():\n",
      "        a.append(1)\n",
      "    elif \"times\" in str(i).lower():\n",
      "        a.append(2)\n",
      "    else:\n",
      "        a.append(3)\n",
      "df['Class'] = a\n",
      "\n",
      "df.Class.value_counts().plot(kind = 'bar')\n",
      "df.Class.value_counts()"
     ],
     "language": "python",
     "metadata": {},
     "outputs": [
      {
       "metadata": {},
       "output_type": "pyout",
       "prompt_number": 17,
       "text": [
        "3    369445\n",
        "1     18982\n",
        "0     12534\n",
        "2       774\n",
        "dtype: int64"
       ]
      },
      {
       "metadata": {},
       "output_type": "display_data",
       "png": "[encoded data removed]",
       "text": [
        "<matplotlib.figure.Figure at 0x7f01204e1c90>"
       ]
      }
     ],
     "prompt_number": 17
    },
    {
     "cell_type": "code",
     "collapsed": false,
     "input": [],
     "language": "python",
     "metadata": {},
     "outputs": []
    }
   ],
   "metadata": {}
  }
 ]
}