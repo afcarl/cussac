{
 "metadata": {
  "name": "",
  "signature": "sha256:4af3fcc23e73cdd0011fcb9b3b748acee80b76c3c6b083abbe6dab2090b23c4b"
 },
 "nbformat": 3,
 "nbformat_minor": 0,
 "worksheets": [
  {
   "cells": [
    {
     "cell_type": "code",
     "collapsed": false,
     "input": [
      "import csv\n",
      "import pandas as pd\n",
      "import matplotlib.pyplot as plt\n",
      "import statistics\n",
      "%matplotlib inline"
     ],
     "language": "python",
     "metadata": {},
     "outputs": [],
     "prompt_number": 14
    },
    {
     "cell_type": "code",
     "collapsed": false,
     "input": [
      "df = pd.read_csv(\"corpus.csv\")\n",
      "df.head()\n",
      "df.columns.values"
     ],
     "language": "python",
     "metadata": {},
     "outputs": [
      {
       "metadata": {},
       "output_type": "pyout",
       "prompt_number": 2,
       "text": [
        "array(['Word', 'Count'], dtype=object)"
       ]
      }
     ],
     "prompt_number": 2
    },
    {
     "cell_type": "code",
     "collapsed": false,
     "input": [
      "c = df['Count']\n",
      "x = [i for i in xrange(len(df))]\n",
      "c.head(100).plot()"
     ],
     "language": "python",
     "metadata": {},
     "outputs": [
      {
       "metadata": {},
       "output_type": "pyout",
       "prompt_number": 15,
       "text": [
        "<matplotlib.axes._subplots.AxesSubplot at 0xa9a42a0c>"
       ]
      },
      {
       "metadata": {},
       "output_type": "display_data",
       "png": "[encoded data removed]",
       "text": [
        "<matplotlib.figure.Figure at 0xa9ac610c>"
       ]
      }
     ],
     "prompt_number": 15
    },
    {
     "cell_type": "code",
     "collapsed": false,
     "input": [
      "df1 = pd.read_csv(\"bigwords.csv\")\n",
      "c = df1.Count\n"
     ],
     "language": "python",
     "metadata": {},
     "outputs": [],
     "prompt_number": 2
    },
    {
     "cell_type": "code",
     "collapsed": false,
     "input": [
      "c.head(100).plot()"
     ],
     "language": "python",
     "metadata": {},
     "outputs": [
      {
       "metadata": {},
       "output_type": "pyout",
       "prompt_number": 4,
       "text": [
        "<matplotlib.axes._subplots.AxesSubplot at 0x88f11f8c>"
       ]
      },
      {
       "metadata": {},
       "output_type": "display_data",
       "png": "[encoded data removed]",
       "text": [
        "<matplotlib.figure.Figure at 0xb645fc0c>"
       ]
      }
     ],
     "prompt_number": 4
    },
    {
     "cell_type": "code",
     "collapsed": false,
     "input": [
      "#Testing the Zipf law\n",
      "rank = [i+1 for i in xrange(len(df1))]\n",
      "df1['Rank'] = rank\n",
      "df1['Score'] = df1['Rank']*df1['Count']\n",
      "df1.head()"
     ],
     "language": "python",
     "metadata": {},
     "outputs": [
      {
       "html": [
        "<div style=\"max-height:1000px;max-width:1500px;overflow:auto;\">\n",
        "<table border=\"1\" class=\"dataframe\">\n",
        "  <thead>\n",
        "    <tr style=\"text-align: right;\">\n",
        "      <th></th>\n",
        "      <th>Word</th>\n",
        "      <th>Count</th>\n",
        "      <th>Rank</th>\n",
        "      <th>Score</th>\n",
        "    </tr>\n",
        "  </thead>\n",
        "  <tbody>\n",
        "    <tr>\n",
        "      <th>0</th>\n",
        "      <td> with</td>\n",
        "      <td> 1376711</td>\n",
        "      <td> 1</td>\n",
        "      <td> 1376711</td>\n",
        "    </tr>\n",
        "    <tr>\n",
        "      <th>1</th>\n",
        "      <td> this</td>\n",
        "      <td> 1219301</td>\n",
        "      <td> 2</td>\n",
        "      <td> 2438602</td>\n",
        "    </tr>\n",
        "    <tr>\n",
        "      <th>2</th>\n",
        "      <td> #nyc</td>\n",
        "      <td>  770982</td>\n",
        "      <td> 3</td>\n",
        "      <td> 2312946</td>\n",
        "    </tr>\n",
        "    <tr>\n",
        "      <th>3</th>\n",
        "      <td> your</td>\n",
        "      <td>  650966</td>\n",
        "      <td> 4</td>\n",
        "      <td> 2603864</td>\n",
        "    </tr>\n",
        "    <tr>\n",
        "      <th>4</th>\n",
        "      <td> that</td>\n",
        "      <td>  649888</td>\n",
        "      <td> 5</td>\n",
        "      <td> 3249440</td>\n",
        "    </tr>\n",
        "  </tbody>\n",
        "</table>\n",
        "</div>"
       ],
       "metadata": {},
       "output_type": "pyout",
       "prompt_number": 3,
       "text": [
        "   Word    Count  Rank    Score\n",
        "0  with  1376711     1  1376711\n",
        "1  this  1219301     2  2438602\n",
        "2  #nyc   770982     3  2312946\n",
        "3  your   650966     4  2603864\n",
        "4  that   649888     5  3249440"
       ]
      }
     ],
     "prompt_number": 3
    },
    {
     "cell_type": "code",
     "collapsed": false,
     "input": [],
     "language": "python",
     "metadata": {},
     "outputs": [],
     "prompt_number": 21
    },
    {
     "cell_type": "code",
     "collapsed": false,
     "input": [
      "df1.tail()"
     ],
     "language": "python",
     "metadata": {},
     "outputs": [
      {
       "html": [
        "<div style=\"max-height:1000px;max-width:1500px;overflow:auto;\">\n",
        "<table border=\"1\" class=\"dataframe\">\n",
        "  <thead>\n",
        "    <tr style=\"text-align: right;\">\n",
        "      <th></th>\n",
        "      <th>Word</th>\n",
        "      <th>Count</th>\n",
        "      <th>Rank</th>\n",
        "      <th>Score</th>\n",
        "    </tr>\n",
        "  </thead>\n",
        "  <tbody>\n",
        "    <tr>\n",
        "      <th>10504503</th>\n",
        "      <td>          depends-LMAO</td>\n",
        "      <td> 1</td>\n",
        "      <td> 10504504</td>\n",
        "      <td> 10504504</td>\n",
        "    </tr>\n",
        "    <tr>\n",
        "      <th>10504504</th>\n",
        "      <td>            #ScheminUP</td>\n",
        "      <td> 1</td>\n",
        "      <td> 10504505</td>\n",
        "      <td> 10504505</td>\n",
        "    </tr>\n",
        "    <tr>\n",
        "      <th>10504505</th>\n",
        "      <td>            \"Yummsies!</td>\n",
        "      <td> 1</td>\n",
        "      <td> 10504506</td>\n",
        "      <td> 10504506</td>\n",
        "    </tr>\n",
        "    <tr>\n",
        "      <th>10504506</th>\n",
        "      <td> #iwishyoucalledmemore</td>\n",
        "      <td> 1</td>\n",
        "      <td> 10504507</td>\n",
        "      <td> 10504507</td>\n",
        "    </tr>\n",
        "    <tr>\n",
        "      <th>10504507</th>\n",
        "      <td>            #feedfaves</td>\n",
        "      <td> 1</td>\n",
        "      <td> 10504508</td>\n",
        "      <td> 10504508</td>\n",
        "    </tr>\n",
        "  </tbody>\n",
        "</table>\n",
        "</div>"
       ],
       "metadata": {},
       "output_type": "pyout",
       "prompt_number": 5,
       "text": [
        "                           Word  Count      Rank     Score\n",
        "10504503           depends-LMAO      1  10504504  10504504\n",
        "10504504             #ScheminUP      1  10504505  10504505\n",
        "10504505             \"Yummsies!      1  10504506  10504506\n",
        "10504506  #iwishyoucalledmemore      1  10504507  10504507\n",
        "10504507             #feedfaves      1  10504508  10504508"
       ]
      }
     ],
     "prompt_number": 5
    },
    {
     "cell_type": "code",
     "collapsed": false,
     "input": [
      "df1['Score'].head(1000000).plot()"
     ],
     "language": "python",
     "metadata": {},
     "outputs": [
      {
       "metadata": {},
       "output_type": "pyout",
       "prompt_number": 20,
       "text": [
        "<matplotlib.axes._subplots.AxesSubplot at 0xa7f9dfcc>"
       ]
      },
      {
       "metadata": {},
       "output_type": "display_data",
       "png": "[encoded data removed]",
       "text": [
        "<matplotlib.figure.Figure at 0xa7fab70c>"
       ]
      }
     ],
     "prompt_number": 20
    },
    {
     "cell_type": "code",
     "collapsed": false,
     "input": [
      "df1['Length'] = df1['Word'].str.len()\n",
      "df1.head()"
     ],
     "language": "python",
     "metadata": {},
     "outputs": [
      {
       "html": [
        "<div style=\"max-height:1000px;max-width:1500px;overflow:auto;\">\n",
        "<table border=\"1\" class=\"dataframe\">\n",
        "  <thead>\n",
        "    <tr style=\"text-align: right;\">\n",
        "      <th></th>\n",
        "      <th>Word</th>\n",
        "      <th>Count</th>\n",
        "      <th>Rank</th>\n",
        "      <th>Score</th>\n",
        "      <th>Length</th>\n",
        "    </tr>\n",
        "  </thead>\n",
        "  <tbody>\n",
        "    <tr>\n",
        "      <th>0</th>\n",
        "      <td> with</td>\n",
        "      <td> 1376711</td>\n",
        "      <td> 1</td>\n",
        "      <td> 1376711</td>\n",
        "      <td> 4</td>\n",
        "    </tr>\n",
        "    <tr>\n",
        "      <th>1</th>\n",
        "      <td> this</td>\n",
        "      <td> 1219301</td>\n",
        "      <td> 2</td>\n",
        "      <td> 2438602</td>\n",
        "      <td> 4</td>\n",
        "    </tr>\n",
        "    <tr>\n",
        "      <th>2</th>\n",
        "      <td> #nyc</td>\n",
        "      <td>  770982</td>\n",
        "      <td> 3</td>\n",
        "      <td> 2312946</td>\n",
        "      <td> 4</td>\n",
        "    </tr>\n",
        "    <tr>\n",
        "      <th>3</th>\n",
        "      <td> your</td>\n",
        "      <td>  650966</td>\n",
        "      <td> 4</td>\n",
        "      <td> 2603864</td>\n",
        "      <td> 4</td>\n",
        "    </tr>\n",
        "    <tr>\n",
        "      <th>4</th>\n",
        "      <td> that</td>\n",
        "      <td>  649888</td>\n",
        "      <td> 5</td>\n",
        "      <td> 3249440</td>\n",
        "      <td> 4</td>\n",
        "    </tr>\n",
        "  </tbody>\n",
        "</table>\n",
        "</div>"
       ],
       "metadata": {},
       "output_type": "pyout",
       "prompt_number": 25,
       "text": [
        "   Word    Count  Rank    Score  Length\n",
        "0  with  1376711     1  1376711       4\n",
        "1  this  1219301     2  2438602       4\n",
        "2  #nyc   770982     3  2312946       4\n",
        "3  your   650966     4  2603864       4\n",
        "4  that   649888     5  3249440       4"
       ]
      }
     ],
     "prompt_number": 25
    },
    {
     "cell_type": "code",
     "collapsed": false,
     "input": [
      "df1['Length'].head(2000000).plot()"
     ],
     "language": "python",
     "metadata": {},
     "outputs": [
      {
       "metadata": {},
       "output_type": "pyout",
       "prompt_number": 36,
       "text": [
        "<matplotlib.axes._subplots.AxesSubplot at 0xa5a9cccc>"
       ]
      },
      {
       "metadata": {},
       "output_type": "display_data",
       "png": "[encoded data removed]",
       "text": [
        "<matplotlib.figure.Figure at 0xa5aa23ac>"
       ]
      }
     ],
     "prompt_number": 36
    },
    {
     "cell_type": "code",
     "collapsed": false,
     "input": [
      "df3 = pd.read_csv('reversecorpus.csv')"
     ],
     "language": "python",
     "metadata": {},
     "outputs": [],
     "prompt_number": 10
    },
    {
     "cell_type": "code",
     "collapsed": false,
     "input": [
      "df3['Len/Rank']=df3['Count']*df3['Length']/df3['Rank']\n",
      "x = [i+1 for i in xrange(1000000)]\n",
      "plt.scatter(x,df3['Len/Rank'].head(1000000))\n",
      "#df3['Len/Rank'].head(10000).plot()"
     ],
     "language": "python",
     "metadata": {},
     "outputs": [
      {
       "metadata": {},
       "output_type": "pyout",
       "prompt_number": 13,
       "text": [
        "<matplotlib.collections.PathCollection at 0xa968a7ec>"
       ]
      },
      {
       "metadata": {},
       "output_type": "display_data",
       "png": "[encoded data removed]",
       "text": [
        "<matplotlib.figure.Figure at 0xa960b40c>"
       ]
      }
     ],
     "prompt_number": 13
    },
    {
     "cell_type": "code",
     "collapsed": false,
     "input": [
      "df3.head()"
     ],
     "language": "python",
     "metadata": {},
     "outputs": [
      {
       "html": [
        "<div style=\"max-height:1000px;max-width:1500px;overflow:auto;\">\n",
        "<table border=\"1\" class=\"dataframe\">\n",
        "  <thead>\n",
        "    <tr style=\"text-align: right;\">\n",
        "      <th></th>\n",
        "      <th>Unnamed: 0</th>\n",
        "      <th>Count</th>\n",
        "      <th>Rank</th>\n",
        "      <th>Score</th>\n",
        "      <th>Length</th>\n",
        "      <th>Len/Rank</th>\n",
        "    </tr>\n",
        "  </thead>\n",
        "  <tbody>\n",
        "    <tr>\n",
        "      <th>0</th>\n",
        "      <td> 4136659</td>\n",
        "      <td> 2</td>\n",
        "      <td> 4136660</td>\n",
        "      <td>  8273320</td>\n",
        "      <td> 6154</td>\n",
        "      <td> 0.002975</td>\n",
        "    </tr>\n",
        "    <tr>\n",
        "      <th>1</th>\n",
        "      <td> 4375061</td>\n",
        "      <td> 2</td>\n",
        "      <td> 4375062</td>\n",
        "      <td>  8750124</td>\n",
        "      <td> 4402</td>\n",
        "      <td> 0.002012</td>\n",
        "    </tr>\n",
        "    <tr>\n",
        "      <th>2</th>\n",
        "      <td> 6469383</td>\n",
        "      <td> 2</td>\n",
        "      <td> 6469384</td>\n",
        "      <td> 12938768</td>\n",
        "      <td> 4164</td>\n",
        "      <td> 0.001287</td>\n",
        "    </tr>\n",
        "    <tr>\n",
        "      <th>3</th>\n",
        "      <td> 9576741</td>\n",
        "      <td> 1</td>\n",
        "      <td> 9576742</td>\n",
        "      <td>  9576742</td>\n",
        "      <td> 3743</td>\n",
        "      <td> 0.000391</td>\n",
        "    </tr>\n",
        "    <tr>\n",
        "      <th>4</th>\n",
        "      <td> 8137690</td>\n",
        "      <td> 1</td>\n",
        "      <td> 8137691</td>\n",
        "      <td>  8137691</td>\n",
        "      <td> 3743</td>\n",
        "      <td> 0.000460</td>\n",
        "    </tr>\n",
        "  </tbody>\n",
        "</table>\n",
        "</div>"
       ],
       "metadata": {},
       "output_type": "pyout",
       "prompt_number": 15,
       "text": [
        "   Unnamed: 0  Count     Rank     Score  Length  Len/Rank\n",
        "0     4136659      2  4136660   8273320    6154  0.002975\n",
        "1     4375061      2  4375062   8750124    4402  0.002012\n",
        "2     6469383      2  6469384  12938768    4164  0.001287\n",
        "3     9576741      1  9576742   9576742    3743  0.000391\n",
        "4     8137690      1  8137691   8137691    3743  0.000460"
       ]
      }
     ],
     "prompt_number": 15
    },
    {
     "cell_type": "code",
     "collapsed": false,
     "input": [
      "#df3['Rank'].head(100000).plot(kind = 'scatter')\n",
      "plt.scatter(x[:100000],df3['Length'].head(100000))"
     ],
     "language": "python",
     "metadata": {},
     "outputs": [
      {
       "metadata": {},
       "output_type": "pyout",
       "prompt_number": 28,
       "text": [
        "<matplotlib.collections.PathCollection at 0xa908432c>"
       ]
      },
      {
       "metadata": {},
       "output_type": "display_data",
       "png": "[encoded data removed]",
       "text": [
        "<matplotlib.figure.Figure at 0xa910b18c>"
       ]
      }
     ],
     "prompt_number": 28
    },
    {
     "cell_type": "code",
     "collapsed": false,
     "input": [],
     "language": "python",
     "metadata": {},
     "outputs": []
    }
   ],
   "metadata": {}
  }
 ]
}