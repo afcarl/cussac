{
 "cells": [
  {
   "cell_type": "code",
   "execution_count": 1,
   "metadata": {
    "collapsed": false
   },
   "outputs": [
    {
     "name": "stdout",
     "output_type": "stream",
     "text": [
      "Populating the interactive namespace from numpy and matplotlib\n"
     ]
    }
   ],
   "source": [
    "import pandas as pd\n",
    "import numpy as np\n",
    "import os\n",
    "import pylab as pl\n",
    "import scipy.stats as st\n",
    "\n",
    "%pylab inline\n",
    "pl.style.use('ggplot')\n"
   ]
  },
  {
   "cell_type": "code",
   "execution_count": 2,
   "metadata": {
    "collapsed": false
   },
   "outputs": [],
   "source": [
    "#npy object with all nyers against social landmarks\n",
    "sl_strength = np.load(os.getenv('CUSSAC_OUTPUT') + '/social_landmark_strength.npy')"
   ]
  },
  {
   "cell_type": "code",
   "execution_count": 4,
   "metadata": {
    "collapsed": false
   },
   "outputs": [
    {
     "data": {
      "text/plain": [
       "(39912, 21609)"
      ]
     },
     "execution_count": 4,
     "metadata": {},
     "output_type": "execute_result"
    }
   ],
   "source": [
    "sl_strength.shape"
   ]
  },
  {
   "cell_type": "code",
   "execution_count": 6,
   "metadata": {
    "collapsed": false
   },
   "outputs": [
    {
     "name": "stdout",
     "output_type": "stream",
     "text": [
      "21.1771647625\n",
      "DescribeResult(nobs=39912, minmax=(0, 494), mean=21.17716476247745, variance=1043.6350446735116, skewness=3.382489258384164, kurtosis=17.520436109503397)\n"
     ]
    }
   ],
   "source": [
    "followers_per_landmark = sl_strength.sum(1)\n",
    "\n",
    "#Mean of no. of followers \n",
    "print followers_per_landmark.mean()\n",
    "print st.describe(followers_per_landmark)\n"
   ]
  },
  {
   "cell_type": "code",
   "execution_count": 10,
   "metadata": {
    "collapsed": false
   },
   "outputs": [
    {
     "data": {
      "image/png": "[encoded data removed]",
      "text/plain": [
       "<matplotlib.figure.Figure at 0x7f40d0c776d0>"
      ]
     },
     "metadata": {},
     "output_type": "display_data"
    }
   ],
   "source": [
    "hist(followers_per_landmark,100,range=[0,100]);"
   ]
  },
  {
   "cell_type": "code",
   "execution_count": 11,
   "metadata": {
    "collapsed": false
   },
   "outputs": [],
   "source": [
    "landmarks_per_user = sl_strength.sum(axis=0)"
   ]
  },
  {
   "cell_type": "code",
   "execution_count": 21,
   "metadata": {
    "collapsed": false
   },
   "outputs": [
    {
     "data": {
      "image/png": "[encoded data removed]",
      "text/plain": [
       "<matplotlib.figure.Figure at 0x7f40d0665b10>"
      ]
     },
     "metadata": {},
     "output_type": "display_data"
    }
   ],
   "source": [
    "pl.hist(landmarks_per_user,100,range=[0,200]);"
   ]
  },
  {
   "cell_type": "code",
   "execution_count": 22,
   "metadata": {
    "collapsed": false
   },
   "outputs": [
    {
     "data": {
      "text/plain": [
       "39.114396779119808"
      ]
     },
     "execution_count": 22,
     "metadata": {},
     "output_type": "execute_result"
    }
   ],
   "source": [
    "mean(landmarks_per_user)"
   ]
  },
  {
   "cell_type": "markdown",
   "metadata": {},
   "source": [
    "##Pick a social landmark and find its followers"
   ]
  },
  {
   "cell_type": "code",
   "execution_count": 15,
   "metadata": {
    "collapsed": false
   },
   "outputs": [
    {
     "data": {
      "text/plain": [
       "array([ 1112,  3091,  4912,  5719,  7446, 14043, 15982, 20298, 22214,\n",
       "       26268, 27392, 28523, 28791, 30372, 31507, 32289, 34711, 37625, 37783])"
      ]
     },
     "execution_count": 15,
     "metadata": {},
     "output_type": "execute_result"
    }
   ],
   "source": [
    "sl = arange(sl_strength.shape[0])[sl_strength[:,2]==1]"
   ]
  },
  {
   "cell_type": "code",
   "execution_count": 16,
   "metadata": {
    "collapsed": true
   },
   "outputs": [],
   "source": [
    "foo = sl_strength[:,sl_strength[1112]==1]"
   ]
  },
  {
   "cell_type": "code",
   "execution_count": 25,
   "metadata": {
    "collapsed": false
   },
   "outputs": [
    {
     "data": {
      "text/plain": [
       "1"
      ]
     },
     "execution_count": 25,
     "metadata": {},
     "output_type": "execute_result"
    }
   ],
   "source": [
    "len([sl_strength[1312]==1])"
   ]
  },
  {
   "cell_type": "code",
   "execution_count": 17,
   "metadata": {
    "collapsed": false
   },
   "outputs": [
    {
     "data": {
      "text/plain": [
       "array([   19,  2822,     2,   546,   806,   885, 10531,  1117,     1,\n",
       "         826,    13,  2658,  2467,   277,   185,  1647,   495,  5091,\n",
       "        3551,  2035,   932,   234,  2019])"
      ]
     },
     "execution_count": 17,
     "metadata": {},
     "output_type": "execute_result"
    }
   ],
   "source": [
    "foo.sum(0)"
   ]
  },
  {
   "cell_type": "code",
   "execution_count": 26,
   "metadata": {
    "collapsed": false
   },
   "outputs": [],
   "source": [
    "a1 = arange(sl_strength.shape[0])[sl_strength[:,2]==1]"
   ]
  },
  {
   "cell_type": "code",
   "execution_count": 27,
   "metadata": {
    "collapsed": true
   },
   "outputs": [],
   "source": [
    "c1 = [np.arange(sl_strength.shape[1])[sl_strength[i]==1] for i in inds]"
   ]
  },
  {
   "cell_type": "code",
   "execution_count": 28,
   "metadata": {
    "collapsed": false
   },
   "outputs": [],
   "source": [
    "c1ind=np.unique(np.concatenate(cols))"
   ]
  },
  {
   "cell_type": "code",
   "execution_count": 30,
   "metadata": {
    "collapsed": false
   },
   "outputs": [],
   "source": [
    "sub_str = sl_strength[inds][:,c1ind]"
   ]
  },
  {
   "cell_type": "code",
   "execution_count": 36,
   "metadata": {
    "collapsed": false
   },
   "outputs": [
    {
     "data": {
      "text/plain": [
       "862458408"
      ]
     },
     "execution_count": 36,
     "metadata": {},
     "output_type": "execute_result"
    }
   ],
   "source": [
    "sl_strength.size"
   ]
  },
  {
   "cell_type": "code",
   "execution_count": 49,
   "metadata": {
    "collapsed": false
   },
   "outputs": [
    {
     "name": "stdout",
     "output_type": "stream",
     "text": [
      "23\n",
      "63\n",
      "11\n",
      "30\n",
      "9\n",
      "16\n",
      "71\n",
      "24\n",
      "38\n",
      "11\n",
      "6\n",
      "56\n",
      "84\n",
      "36\n",
      "100\n",
      "2\n",
      "21\n",
      "20\n",
      "7\n"
     ]
    }
   ],
   "source": []
  },
  {
   "cell_type": "code",
   "execution_count": 33,
   "metadata": {
    "collapsed": false
   },
   "outputs": [
    {
     "data": {
      "text/plain": [
       "array([[1, 0, 1, ..., 0, 0, 0],\n",
       "       [1, 0, 1, ..., 0, 0, 0],\n",
       "       [1, 0, 0, ..., 0, 0, 0],\n",
       "       ..., \n",
       "       [1, 0, 0, ..., 0, 0, 0],\n",
       "       [1, 0, 0, ..., 0, 0, 0],\n",
       "       [1, 0, 0, ..., 0, 0, 0]])"
      ]
     },
     "execution_count": 33,
     "metadata": {},
     "output_type": "execute_result"
    }
   ],
   "source": [
    "sl_strength[inds][:,c1ind]"
   ]
  },
  {
   "cell_type": "code",
   "execution_count": 32,
   "metadata": {
    "collapsed": false
   },
   "outputs": [
    {
     "data": {
      "text/plain": [
       "array([1, 1, 1, 1, 1, 1, 1, 1, 1, 1, 1, 1, 1, 1, 1, 1, 1, 1, 1])"
      ]
     },
     "execution_count": 32,
     "metadata": {},
     "output_type": "execute_result"
    }
   ],
   "source": [
    "sub_str[:,0]"
   ]
  },
  {
   "cell_type": "code",
   "execution_count": 60,
   "metadata": {
    "collapsed": false
   },
   "outputs": [
    {
     "data": {
      "image/png": "[encoded data removed]",
      "text/plain": [
       "<matplotlib.figure.Figure at 0x7ff7e8ce34d0>"
      ]
     },
     "metadata": {},
     "output_type": "display_data"
    }
   ],
   "source": [
    "figure(figsize=[10,10])\n",
    "imshow(sub_str,'gist_gray',interpolation='nearest',aspect=10)\n",
    "grid(0)"
   ]
  },
  {
   "cell_type": "code",
   "execution_count": 72,
   "metadata": {
    "collapsed": false
   },
   "outputs": [
    {
     "name": "stdout",
     "output_type": "stream",
     "text": [
      "[19  1  4  1  1  1  3  1  5  1  1  1  1  3  1  1  1  1  2  1  1  1  1  1  1\n",
      "  3  4  1  1  1  1  1  1  3  1  1  1  1  1  1  1  1  1  1  2  1  1  1  1  3\n",
      "  4  1  1  1  1 12  3  1  1  1  3  7  3  1  1  1  3  1  3  2  6  1  1  2  1\n",
      "  5  3  4  1  3  6  2  1  1  5  7  3  1  1  1  1  1  5  2  1  1  1  1  1  1\n",
      "  2  2  2  2  1  2  1  2  1  1  2  1  2  1  3  1  1  2  7  1  1  1  2  1  2\n",
      "  1  1  1  1  1  1  1  2  1  2  2  1  6  7  1  1  3  4  1  1  2  1  1  1  1\n",
      "  1  8  1  1  1  1  1  1  1  1  1  3  1  1  1  1  1  1  3  1  1  3  1  6  4\n",
      "  1  1  2  1  1  1  1  5  1  1  3  1  1  1  3  5  5  1  1  1  1  1  2  1  1\n",
      "  1  1  1  3  2  6  8  2  2  1  6  1  3  3  1  2  2  1  1  2  1  1  5  1  3\n",
      "  3  1  5  1  2  1  1  1  1  1  1  1  2  1  1  3  1  1  5  1  1  3  1  1  1\n",
      "  2  1  1  1  1  1  1  2  1  1  1  2  1  1  1  1  3  1  1  1  1  4  1  1  1\n",
      "  1  1  1  1  1  1  2  2  4  1  1  1  2  1  1  1  1  1  1  1  1  2  1  1  1\n",
      "  1  1  1  1  1  2  1  1  1  1  1  1  1  1  1  1  1  1  1  2  1  1  2  3  1\n",
      "  1  3  1  1  1  1  1  1  1  4  1  1  1  1  3  1  1  2  4  1  1  1  1  2  1\n",
      "  1  2  1  1  1]\n",
      "[ 23  63  11  30   9  16  71  24  38  11   6  56  84  36 100   2  21  20\n",
      "   7]\n"
     ]
    }
   ],
   "source": [
    "print(sub_str.sum(0))\n",
    "print(sub_str.sum(1))"
   ]
  },
  {
   "cell_type": "code",
   "execution_count": null,
   "metadata": {
    "collapsed": true
   },
   "outputs": [],
   "source": []
  },
  {
   "cell_type": "code",
   "execution_count": null,
   "metadata": {
    "collapsed": true
   },
   "outputs": [],
   "source": []
  }
 ],
 "metadata": {
  "kernelspec": {
   "display_name": "Python 2",
   "language": "python",
   "name": "python2"
  },
  "language_info": {
   "codemirror_mode": {
    "name": "ipython",
    "version": 2
   },
   "file_extension": ".py",
   "mimetype": "text/x-python",
   "name": "python",
   "nbconvert_exporter": "python",
   "pygments_lexer": "ipython2",
   "version": "2.7.10"
  }
 },
 "nbformat": 4,
 "nbformat_minor": 0
}
