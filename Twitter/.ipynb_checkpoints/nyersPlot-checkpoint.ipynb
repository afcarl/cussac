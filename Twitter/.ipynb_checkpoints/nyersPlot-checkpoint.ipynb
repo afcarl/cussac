{
 "cells": [
  {
   "cell_type": "code",
   "execution_count": 1,
   "metadata": {
    "collapsed": true
   },
   "outputs": [],
   "source": [
    "import os\n",
    "import pandas as pd\n",
    "import numpy as np\n",
    "import json"
   ]
  },
  {
   "cell_type": "code",
   "execution_count": 2,
   "metadata": {
    "collapsed": true
   },
   "outputs": [],
   "source": [
    "with open(str(os.getenv('CUSSAC_OUTPUT')) + '/ny_followings.json', 'r') as f:\n",
    "    ny_friends = json.load(f)\n",
    "    \n",
    "nyers = pd.read_csv(str(os.getenv('CUSSAC_OUTPUT')) + '/nyers.csv', index_col = 0)"
   ]
  },
  {
   "cell_type": "code",
   "execution_count": 4,
   "metadata": {
    "collapsed": false
   },
   "outputs": [],
   "source": [
    "nyers = nyers.drop_duplicates(subset = 'id')\n",
    "nyers = nyers.reset_index(drop = True)\n",
    "social_landmarks = (nyers[nyers['followers_count'] >= 1000])\n",
    "social_landmarks = social_landmarks.reset_index(drop = True)"
   ]
  },
  {
   "cell_type": "raw",
   "metadata": {},
   "source": []
  },
  {
   "cell_type": "code",
   "execution_count": 19,
   "metadata": {
    "collapsed": false
   },
   "outputs": [
    {
     "data": {
      "text/plain": [
       "u'olivtrfe'"
      ]
     },
     "execution_count": 19,
     "metadata": {},
     "output_type": "execute_result"
    }
   ],
   "source": [
    "sl_strength = np.zeros((len(ny_friends.keys()),len(social_landmarks)), dtype = np.int)\n",
    "sl_strength = np.matrix(sl_strength)"
   ]
  },
  {
   "cell_type": "code",
   "execution_count": 48,
   "metadata": {
    "collapsed": false
   },
   "outputs": [
    {
     "name": "stdout",
     "output_type": "stream",
     "text": [
      "      screen_name\n",
      "0        olivtrfe\n",
      "1    EmiiVizcaino\n",
      "2        Fosterly\n",
      "3           tasog\n",
      "4  AfroRepublican\n"
     ]
    }
   ],
   "source": [
    "nyer_lookup = pd.DataFrame(ny_friends.keys(), columns = ['screen_name'])\n",
    "print nyer_lookup.head()"
   ]
  },
  {
   "cell_type": "code",
   "execution_count": null,
   "metadata": {
    "collapsed": true
   },
   "outputs": [],
   "source": [
    "for key in ny_friends.iterkeys():\n",
    "    indices = (social_landmarks[social_landmarks['id'].isin(ny_friends[key][0])]).index.values\n",
    "    print len()\n",
    "        "
   ]
  },
  {
   "cell_type": "code",
   "execution_count": 43,
   "metadata": {
    "collapsed": false
   },
   "outputs": [
    {
     "name": "stdout",
     "output_type": "stream",
     "text": [
      "(39912, 21609)\n",
      "1\n"
     ]
    }
   ],
   "source": [
    "print sl_strength.shape\n",
    "sl_strength[82,8297] = sl_strength[82,8297] +1\n",
    "print sl_strength[82,8297]"
   ]
  }
 ],
 "metadata": {
  "kernelspec": {
   "display_name": "Python 2",
   "language": "python",
   "name": "python2"
  },
  "language_info": {
   "codemirror_mode": {
    "name": "ipython",
    "version": 2
   },
   "file_extension": ".py",
   "mimetype": "text/x-python",
   "name": "python",
   "nbconvert_exporter": "python",
   "pygments_lexer": "ipython2",
   "version": "2.7.10"
  }
 },
 "nbformat": 4,
 "nbformat_minor": 0
}
