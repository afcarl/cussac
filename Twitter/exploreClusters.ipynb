{
 "cells": [
  {
   "cell_type": "code",
   "execution_count": 1,
   "metadata": {
    "collapsed": false
   },
   "outputs": [
    {
     "name": "stdout",
     "output_type": "stream",
     "text": [
      "Populating the interactive namespace from numpy and matplotlib\n"
     ]
    }
   ],
   "source": [
    "'''\n",
    "This notebook explore clusters of social landmarks that nyers follows\n",
    "'''\n",
    "import os\n",
    "import pandas as pd\n",
    "import numpy as np\n",
    "import json\n",
    "import pylab as pl\n",
    "%pylab inline"
   ]
  },
  {
   "cell_type": "code",
   "execution_count": 2,
   "metadata": {
    "collapsed": false
   },
   "outputs": [],
   "source": [
    "sl_strength = np.load(os.getenv('CUSSAC_OUTPUT') + '/social_landmark_strength.npy')\n"
   ]
  },
  {
   "cell_type": "code",
   "execution_count": 21,
   "metadata": {
    "collapsed": true
   },
   "outputs": [],
   "source": [
    "nonny_sl_strength = np.load(os.getenv('CUSSAC_OUTPUT') + '/nonny_social_landmark_strength.npy')\n"
   ]
  },
  {
   "cell_type": "code",
   "execution_count": 28,
   "metadata": {
    "collapsed": false
   },
   "outputs": [
    {
     "name": "stdout",
     "output_type": "stream",
     "text": [
      "Social Landmark: 1433 Total Landmarks: 8878 Common Landmarks: 1236\n",
      "Social Landmark: 23 Total Landmarks: 17 Common Landmarks: 0\n",
      "Social Landmark: 19146 Total Landmarks: 2594 Common Landmarks: 432\n",
      "Social Landmark: 16676 Total Landmarks: 176 Common Landmarks: 8\n",
      "Social Landmark: 14474 Total Landmarks: 887 Common Landmarks: 153\n",
      "Social Landmark: 162 Total Landmarks: 5837 Common Landmarks: 852\n",
      "Social Landmark: 5855 Total Landmarks: 0 Common Landmarks: 0\n",
      "Social Landmark: 14268 Total Landmarks: 329 Common Landmarks: 43\n",
      "Social Landmark: 2921 Total Landmarks: 25 Common Landmarks: 1\n",
      "Social Landmark: 18307 Total Landmarks: 764 Common Landmarks: 125\n",
      "Social Landmark: 10124 Total Landmarks: 121 Common Landmarks: 3\n",
      "Social Landmark: 12751 Total Landmarks: 1045 Common Landmarks: 168\n",
      "Social Landmark: 491 Total Landmarks: 9170 Common Landmarks: 1110\n",
      "Social Landmark: 20020 Total Landmarks: 3676 Common Landmarks: 583\n",
      "Social Landmark: 14646 Total Landmarks: 40948 Common Landmarks: 2940\n",
      "Social Landmark: 6461 Total Landmarks: 14460 Common Landmarks: 1831\n",
      "Social Landmark: 7769 Total Landmarks: 0 Common Landmarks: 0\n",
      "Social Landmark: 3776 Total Landmarks: 159 Common Landmarks: 12\n",
      "Social Landmark: 16897 Total Landmarks: 9 Common Landmarks: 0\n",
      "Social Landmark: 6610 Total Landmarks: 0 Common Landmarks: 0\n"
     ]
    }
   ],
   "source": [
    "#Picks landmark at random and finds all other landmarks that are followed by it's followers\n",
    "#\n",
    "np.random.seed(179)\n",
    "for i in np.random.choice(sl_strength.shape[1], 20):\n",
    "    mutual_landmarks = np.array([])\n",
    "    sl_followers = np.where(sl_strength[:,i] == 1)[0]\n",
    "    for follower in sl_followers:\n",
    "        mutual_landmarks = np.append(mutual_landmarks, np.where(sl_strength[follower,:] == 1)[0])\n",
    "        \n",
    "     \n",
    "    print 'Social Landmark: ' + str(i),'Total Landmarks: ' + str(len(mutual_landmarks)), 'Common Landmarks: ' \\\n",
    "        + str( (np.bincount(map(int,mutual_landmarks))>1).sum())\n",
    "        \n"
   ]
  },
  {
   "cell_type": "code",
   "execution_count": 29,
   "metadata": {
    "collapsed": false
   },
   "outputs": [
    {
     "name": "stdout",
     "output_type": "stream",
     "text": [
      "Social Landmark: 1433 Total Landmarks: 57 Common Landmarks: 1\n",
      "Social Landmark: 23 Total Landmarks: 0 Common Landmarks: 0\n",
      "Social Landmark: 19146 Total Landmarks: 0 Common Landmarks: 0\n",
      "Social Landmark: 16676 Total Landmarks: 0 Common Landmarks: 0\n",
      "Social Landmark: 14474 Total Landmarks: 35 Common Landmarks: 0\n",
      "Social Landmark: 162 Total Landmarks: 129 Common Landmarks: 12\n",
      "Social Landmark: 5855 Total Landmarks: 0 Common Landmarks: 0\n",
      "Social Landmark: 14268 Total Landmarks: 0 Common Landmarks: 0\n",
      "Social Landmark: 2921 Total Landmarks: 0 Common Landmarks: 0\n",
      "Social Landmark: 18307 Total Landmarks: 110 Common Landmarks: 1\n",
      "Social Landmark: 10124 Total Landmarks: 0 Common Landmarks: 0\n",
      "Social Landmark: 12751 Total Landmarks: 20 Common Landmarks: 0\n",
      "Social Landmark: 491 Total Landmarks: 384 Common Landmarks: 62\n",
      "Social Landmark: 20020 Total Landmarks: 0 Common Landmarks: 0\n",
      "Social Landmark: 14646 Total Landmarks: 1417 Common Landmarks: 226\n",
      "Social Landmark: 6461 Total Landmarks: 51 Common Landmarks: 0\n",
      "Social Landmark: 7769 Total Landmarks: 0 Common Landmarks: 0\n",
      "Social Landmark: 3776 Total Landmarks: 0 Common Landmarks: 0\n",
      "Social Landmark: 16897 Total Landmarks: 0 Common Landmarks: 0\n",
      "Social Landmark: 6610 Total Landmarks: 0 Common Landmarks: 0\n"
     ]
    }
   ],
   "source": [
    "np.random.seed(179)\n",
    "for i in np.random.choice(nonny_sl_strength.shape[1], 20):\n",
    "    mutual_landmarks = np.array([])\n",
    "    sl_followers = np.where(nonny_sl_strength[:,i] == 1)[0]\n",
    "    for follower in sl_followers:\n",
    "        mutual_landmarks = np.append(mutual_landmarks, np.where(nonny_sl_strength[follower,:] == 1)[0])\n",
    "    print 'Social Landmark: ' + str(i),'Total Landmarks: ' + str(len(mutual_landmarks)), 'Common Landmarks: ' \\\n",
    "        + str( (np.bincount(map(int,mutual_landmarks))>1).sum())\n",
    "        \n",
    "\n",
    "\n",
    "#pl.imshow(sl_strength, cmap = 'Greys')"
   ]
  },
  {
   "cell_type": "code",
   "execution_count": 29,
   "metadata": {
    "collapsed": true
   },
   "outputs": [],
   "source": [
    "for key in ny_friends.iterkeys():\n",
    "    indices = (social_landmarks[social_landmarks['id'].isin(ny_friends[key][0])]).index.values\n",
    "    sl_strength[nyer_lookup[nyer_lookup['screen_name'] == key ].index.values[0], indices]+=1\n",
    "    "
   ]
  },
  {
   "cell_type": "markdown",
   "metadata": {
    "collapsed": true
   },
   "source": [
    "-Set difference in comman landmarks b/w nyers and non-nyer\n",
    "-Scatter plot for each social landmark ratio vs #followers in matrix-"
   ]
  }
 ],
 "metadata": {
  "kernelspec": {
   "display_name": "Python 2",
   "language": "python",
   "name": "python2"
  },
  "language_info": {
   "codemirror_mode": {
    "name": "ipython",
    "version": 2
   },
   "file_extension": ".py",
   "mimetype": "text/x-python",
   "name": "python",
   "nbconvert_exporter": "python",
   "pygments_lexer": "ipython2",
   "version": "2.7.10"
  }
 },
 "nbformat": 4,
 "nbformat_minor": 0
}
