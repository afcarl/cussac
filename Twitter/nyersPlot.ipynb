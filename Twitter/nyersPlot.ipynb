{
 "cells": [
  {
   "cell_type": "code",
   "execution_count": 1,
   "metadata": {
    "collapsed": true
   },
   "outputs": [],
   "source": [
    "'''\n",
    "This script creates a matrix of nyers and the landmarks they follow\n",
    "'''\n",
    "import os\n",
    "import pandas as pd\n",
    "import numpy as np\n",
    "import json"
   ]
  },
  {
   "cell_type": "code",
   "execution_count": 2,
   "metadata": {
    "collapsed": false
   },
   "outputs": [
    {
     "name": "stdout",
     "output_type": "stream",
     "text": [
      "79353\n",
      "39912\n"
     ]
    }
   ],
   "source": [
    "with open(str(os.getenv('CUSSAC_OUTPUT')) + '/ny_followings.json', 'r') as f:\n",
    "    ny_friends = json.load(f)\n",
    "    \n",
    "nyers = pd.read_csv(str(os.getenv('CUSSAC_OUTPUT')) + '/nyers.csv', index_col = 0)\n",
    "print len(nyers)\n",
    "print len(ny_friends.keys())"
   ]
  },
  {
   "cell_type": "code",
   "execution_count": 3,
   "metadata": {
    "collapsed": false
   },
   "outputs": [],
   "source": [
    "nyers = nyers.drop_duplicates(subset = 'id')\n",
    "nyers = nyers.reset_index(drop = True)\n",
    "\n",
    "social_landmarks = (nyers[nyers['followers_count'] >= 1000])\n",
    "social_landmarks = social_landmarks.reset_index(drop = True)"
   ]
  },
  {
   "cell_type": "code",
   "execution_count": 4,
   "metadata": {
    "collapsed": false
   },
   "outputs": [],
   "source": [
    "sl_strength = np.zeros((len(ny_friends.keys()),len(social_landmarks)), dtype = np.int)\n",
    "sl_strength = np.matrix(sl_strength)\n",
    "\n",
    "nyer_lookup = pd.DataFrame(ny_friends.keys(), columns = ['screen_name'])"
   ]
  },
  {
   "cell_type": "code",
   "execution_count": null,
   "metadata": {
    "collapsed": true
   },
   "outputs": [],
   "source": []
  },
  {
   "cell_type": "code",
   "execution_count": null,
   "metadata": {
    "collapsed": true
   },
   "outputs": [],
   "source": []
  },
  {
   "cell_type": "code",
   "execution_count": 1,
   "metadata": {
    "collapsed": false
   },
   "outputs": [],
   "source": [
    "for key in ny_friends.iterkeys():\n",
    "    indices = (social_landmarks[social_landmarks['id'].isin(ny_friends[key][0])]).index.values\n",
    "    sl_strength[nyer_lookup[nyer_lookup['screen_name'] == key ].index.values[0], indices]+=1\n",
    "    "
   ]
  },
  {
   "cell_type": "code",
   "execution_count": 29,
   "metadata": {
    "collapsed": true
   },
   "outputs": [],
   "source": [
    "np.save(os.getenv('CUSSAC_OUTPUT') + '/social_landmark_strength.npy', sl_strength)"
   ]
  },
  {
   "cell_type": "code",
   "execution_count": null,
   "metadata": {
    "collapsed": true
   },
   "outputs": [],
   "source": []
  }
 ],
 "metadata": {
  "kernelspec": {
   "display_name": "Python 2",
   "language": "python",
   "name": "python2"
  },
  "language_info": {
   "codemirror_mode": {
    "name": "ipython",
    "version": 2
   },
   "file_extension": ".py",
   "mimetype": "text/x-python",
   "name": "python",
   "nbconvert_exporter": "python",
   "pygments_lexer": "ipython2",
   "version": "2.7.10"
  }
 },
 "nbformat": 4,
 "nbformat_minor": 0
}
